{
  "nbformat": 4,
  "nbformat_minor": 0,
  "metadata": {
    "colab": {
      "provenance": [],
      "collapsed_sections": [],
      "mount_file_id": "1MZJN0FkKGAP7hxPLB2Fy_G7lOeyJNXJg",
      "authorship_tag": "ABX9TyNRwsQXGtydoHkcyRu0cGkN",
      "include_colab_link": true
    },
    "kernelspec": {
      "name": "python3",
      "display_name": "Python 3"
    },
    "language_info": {
      "name": "python"
    }
  },
  "cells": [
    {
      "cell_type": "markdown",
      "metadata": {
        "id": "view-in-github",
        "colab_type": "text"
      },
      "source": [
        "<a href=\"https://colab.research.google.com/github/clara-lan/Capstone/blob/main/CapstoneSVM.ipynb\" target=\"_parent\"><img src=\"https://colab.research.google.com/assets/colab-badge.svg\" alt=\"Open In Colab\"/></a>"
      ]
    },
    {
      "cell_type": "markdown",
      "source": [
        "# Use SVM to detect empty space and pre-process images"
      ],
      "metadata": {
        "id": "J93ZoQDqaIYw"
      }
    },
    {
      "cell_type": "markdown",
      "source": [
        "# Step1: Import system and dependancies"
      ],
      "metadata": {
        "id": "Nwzzdw3yaTjQ"
      }
    },
    {
      "cell_type": "code",
      "execution_count": 113,
      "metadata": {
        "colab": {
          "base_uri": "https://localhost:8080/"
        },
        "id": "5LtTklnf1hEW",
        "outputId": "c331579b-7675-4419-fe50-e4149cd7e9cc"
      },
      "outputs": [
        {
          "output_type": "stream",
          "name": "stdout",
          "text": [
            "Looking in indexes: https://pypi.org/simple, https://us-python.pkg.dev/colab-wheels/public/simple/\n",
            "Requirement already satisfied: roboflow in /usr/local/lib/python3.7/dist-packages (0.2.16)\n",
            "Requirement already satisfied: opencv-python-headless>=4.5.1.48 in /usr/local/lib/python3.7/dist-packages (from roboflow) (4.6.0.66)\n",
            "Requirement already satisfied: urllib3==1.26.6 in /usr/local/lib/python3.7/dist-packages (from roboflow) (1.26.6)\n",
            "Requirement already satisfied: chardet==4.0.0 in /usr/local/lib/python3.7/dist-packages (from roboflow) (4.0.0)\n",
            "Requirement already satisfied: tqdm>=4.41.0 in /usr/local/lib/python3.7/dist-packages (from roboflow) (4.64.1)\n",
            "Requirement already satisfied: certifi==2021.5.30 in /usr/local/lib/python3.7/dist-packages (from roboflow) (2021.5.30)\n",
            "Requirement already satisfied: python-dotenv in /usr/local/lib/python3.7/dist-packages (from roboflow) (0.21.0)\n",
            "Requirement already satisfied: requests-toolbelt in /usr/local/lib/python3.7/dist-packages (from roboflow) (0.10.0)\n",
            "Requirement already satisfied: idna==2.10 in /usr/local/lib/python3.7/dist-packages (from roboflow) (2.10)\n",
            "Requirement already satisfied: numpy>=1.18.5 in /usr/local/lib/python3.7/dist-packages (from roboflow) (1.21.6)\n",
            "Requirement already satisfied: cycler==0.10.0 in /usr/local/lib/python3.7/dist-packages (from roboflow) (0.10.0)\n",
            "Requirement already satisfied: PyYAML>=5.3.1 in /usr/local/lib/python3.7/dist-packages (from roboflow) (6.0)\n",
            "Requirement already satisfied: wget in /usr/local/lib/python3.7/dist-packages (from roboflow) (3.2)\n",
            "Requirement already satisfied: kiwisolver==1.3.1 in /usr/local/lib/python3.7/dist-packages (from roboflow) (1.3.1)\n",
            "Requirement already satisfied: six in /usr/local/lib/python3.7/dist-packages (from roboflow) (1.15.0)\n",
            "Requirement already satisfied: Pillow>=7.1.2 in /usr/local/lib/python3.7/dist-packages (from roboflow) (7.1.2)\n",
            "Requirement already satisfied: matplotlib in /usr/local/lib/python3.7/dist-packages (from roboflow) (3.2.2)\n",
            "Requirement already satisfied: pyparsing==2.4.7 in /usr/local/lib/python3.7/dist-packages (from roboflow) (2.4.7)\n",
            "Requirement already satisfied: requests in /usr/local/lib/python3.7/dist-packages (from roboflow) (2.28.1)\n",
            "Requirement already satisfied: python-dateutil in /usr/local/lib/python3.7/dist-packages (from roboflow) (2.8.2)\n",
            "Requirement already satisfied: glob2 in /usr/local/lib/python3.7/dist-packages (from roboflow) (0.7)\n",
            "Requirement already satisfied: charset-normalizer<3,>=2 in /usr/local/lib/python3.7/dist-packages (from requests->roboflow) (2.1.1)\n",
            "TensorFlow version: 2.9.2\n"
          ]
        }
      ],
      "source": [
        "import os\n",
        "from os import listdir\n",
        "from os.path import isfile, join\n",
        "!pip install roboflow\n",
        "from roboflow import Roboflow\n",
        "import numpy as np\n",
        "import matplotlib.pyplot as plt\n",
        "from sklearn.preprocessing import MultiLabelBinarizer\n",
        "import tensorflow as tf"
      ]
    },
    {
      "cell_type": "code",
      "source": [
        "import IPython.display as display"
      ],
      "metadata": {
        "id": "Yo6xjQ4_SkU6"
      },
      "execution_count": 2,
      "outputs": []
    },
    {
      "cell_type": "code",
      "source": [
        "import pandas as pd\n",
        "import cv2\n",
        "import os\n",
        "import sys\n",
        "import math\n",
        "import time\n",
        "from sklearn import svm\n",
        "from sklearn.metrics import accuracy_score\n",
        "from skimage.feature import hog"
      ],
      "metadata": {
        "id": "Qz5dhKUwauId"
      },
      "execution_count": 3,
      "outputs": []
    },
    {
      "cell_type": "markdown",
      "source": [
        "## Import dataset from Roboflow"
      ],
      "metadata": {
        "id": "876UEB-fahHR"
      }
    },
    {
      "cell_type": "code",
      "source": [
        "from sklearn.utils.fixes import sklearn\n",
        "#Read method1: Load roboflow dataset in tfrecord\n",
        "import tensorflow.python.platform\n",
        "from tensorflow.python.platform import gfile\n",
        "\n",
        "rf = Roboflow(api_key=\"cKIuGvQRsLbBvFgxNztc\")\n",
        "project = rf.workspace(\"myworkspace-nfnwm\").project(\"capstone-nyjby\")\n",
        "dataset = project.version(3).download(\"tfrecord\")"
      ],
      "metadata": {
        "colab": {
          "base_uri": "https://localhost:8080/"
        },
        "id": "IpgNXMqw-4Hy",
        "outputId": "c941f4e7-6bff-472a-d1b5-f96c080cb0bb"
      },
      "execution_count": 105,
      "outputs": [
        {
          "output_type": "stream",
          "name": "stdout",
          "text": [
            "1.0.2\n",
            "loading Roboflow workspace...\n",
            "loading Roboflow project...\n",
            "Downloading Dataset Version Zip in Capstone-3 to tfrecord: 100% [28790622 / 28790622] bytes\n"
          ]
        },
        {
          "output_type": "stream",
          "name": "stderr",
          "text": [
            "Extracting Dataset Version Zip to Capstone-3 in tfrecord:: 100%|██████████| 11/11 [00:00<00:00, 18.60it/s]\n"
          ]
        }
      ]
    },
    {
      "cell_type": "code",
      "source": [
        "def extract_images(path,mode):\n",
        "  #   # Create a description of the features.\n",
        "  images = {}\n",
        "  features = {\n",
        "      \"image/encoded\": tf.io.FixedLenFeature([], tf.string),\n",
        "      \"image/format\": tf.io.FixedLenFeature([], tf.string),\n",
        "      \"image/height\": tf.io.FixedLenFeature([], tf.int64),\n",
        "      \"image/object/bbox/xmax\": tf.io.VarLenFeature(tf.float32),\n",
        "      \"image/object/bbox/xmin\": tf.io.VarLenFeature(tf.float32),\n",
        "      \"image/object/bbox/ymax\": tf.io.VarLenFeature(tf.float32),\n",
        "      \"image/object/bbox/ymin\": tf.io.VarLenFeature(tf.float32),\n",
        "      \"image/object/class/label\": tf.io.VarLenFeature(tf.int64),\n",
        "      \"image/object/class/text\": tf.io.VarLenFeature(tf.string),\n",
        "      \"image/width\": tf.io.FixedLenFeature([], tf.int64),\n",
        "  }\n",
        "  size = 0\n",
        "  idx = 0\n",
        "  if mode == 1:\n",
        "    size = 100\n",
        "  elif mode == 2:\n",
        "    size = 50\n",
        "  train_dataset = tf.data.TFRecordDataset(path)\n",
        "  # Check an example data in file\n",
        "  print(\"size: \", size)\n",
        "  for raw_record in train_dataset.take(size):\n",
        "    # print(raw_record)\n",
        "    sample = tf.io.parse_single_example(raw_record, features)\n",
        "    image = tf.image.decode_image(sample['image/encoded'], dtype=tf.float32) \n",
        "    label = sample['image/object/class/label']\n",
        "    # from matplotlib import pyplot as plt\n",
        "    images[idx] = [image, label]\n",
        "    idx+=1\n",
        "    # print(\"label: \", label.values)\n",
        "    # break\n",
        "  return images\n",
        "# path =  '/content/Capstone-3/train/empty-shelf-space.tfrecord'\n",
        "# extract_images(path, 1)"
      ],
      "metadata": {
        "id": "lOfRNPtyQi9u"
      },
      "execution_count": 146,
      "outputs": []
    },
    {
      "cell_type": "markdown",
      "source": [
        "# Step2: Preprocess data"
      ],
      "metadata": {
        "id": "HI6gpfcDapC1"
      }
    },
    {
      "cell_type": "code",
      "source": [
        "# test_dataset = tf.data.TFRecordDataset('/content/Empty-shelf-detection-15/test/Empty-space.tfrecord')\n",
        "# valid_dataset = tf.data.TFRecordDataset('/content/Empty-shelf-detection-15/valid/Empty-space.tfrecord')\n",
        "train_labels = '/content/Capstone-3/train/empty-shelf-space_label_map.pbtxt'\n",
        "# valid_labels = '/content/Empty-shelf-detection-15/valid/Empty-space_label_map.pbtxt'"
      ],
      "metadata": {
        "id": "1CpXZtaDPG9G"
      },
      "execution_count": 30,
      "outputs": []
    },
    {
      "cell_type": "markdown",
      "source": [
        "# Step3: Train SVM\n",
        "---\n",
        "\n"
      ],
      "metadata": {
        "id": "GeQM7_yAZniY"
      }
    },
    {
      "cell_type": "code",
      "source": [
        "# rnoMapping = {}\n",
        "\n",
        "def datagen(mode):\n",
        "    \"\"\"\n",
        "    Function: datagen \n",
        "    \n",
        "    Input: \n",
        "        mode - 1 denotes train data ; 2 denotes test data\n",
        "    \n",
        "    Output: Train/Test data and labels depending on mode value\n",
        "    \n",
        "    Description: This function computes HOG features for each image in the Dataset/train or Dataset/test folder, assigns label to the descriptor vector of the image and returns the final train/test data and labels matrices used for feeding the SVM in training phase or predicting the label of test data.\n",
        "    \n",
        "    \"\"\"\n",
        "\n",
        "    X = []\n",
        "    y = []\n",
        "    # TODO: remove the dummy index to select y\n",
        "    idx = 0\n",
        "    cnt = 0\n",
        "    if mode == 1:\n",
        "        path = '/content/Capstone-3/train/empty-shelf-space.tfrecord'\n",
        "    elif mode == 2:\n",
        "        path = '/content/Capstone-3/valid/empty-shelf-space.tfrecord'\n",
        "    # read image\n",
        "    images = extract_images(path, mode)\n",
        "    for key in images.keys():\n",
        "        # compute HOG features\n",
        "        img, label = images[key][0], images[key][1]\n",
        "        # print(type(img))\n",
        "        des, hog_image = hog(img, orientations=8, pixels_per_cell=(16, 16), cells_per_block=(4, 4), block_norm= 'L2',visualize=True)\n",
        "        # print(\"des: \", des)\n",
        "\n",
        "        \"\"\"Read labels\"\"\"\n",
        "        # if mode == 1:\n",
        "        #     # construct dictionary for roll no. mapping\n",
        "        #   if label not in rnoMapping.keys():\n",
        "        #       rnoMapping[label] = cnt\n",
        "        #       cnt += 1\n",
        "\n",
        "        # append descriptor and label to train/test data, labels\n",
        "        X.append(des)\n",
        "        label = tf.sparse.to_dense(label).numpy().tolist()\n",
        "        y.append(label)\n",
        "    # print(\"X: \",X)\n",
        "        # print(\"y: \", label)\n",
        "    # return data and label\n",
        "    return X, y\n",
        "# datagen(1)\n",
        "# datagen(2)\n"
      ],
      "metadata": {
        "id": "1iD7Wrf-ZuPp"
      },
      "execution_count": 147,
      "outputs": []
    },
    {
      "cell_type": "code",
      "source": [
        "def train_svm():\n",
        "    # list of training and test files\n",
        "    # call 'datagen' function to get training and testing data & labels\n",
        "    mlb = MultiLabelBinarizer()\n",
        "    Xtrain, ytrain = datagen(1)\n",
        "    Xtest, ytest = datagen(2)\n",
        "    # print(\"ytrain: \", ytrain)\n",
        "    # convert matrices to numpy array for fast computation\n",
        "    Xtrain = np.array(Xtrain)\n",
        "    # convert labels to 1d array to enabel sklearn\n",
        "    ytrain = [item[0] for item in ytrain]\n",
        "    # print(\"x: \", len(Xtrain))\n",
        "    # print(\"ytrain: \", ytrain)\n",
        "    Xtest = np.array(Xtest)\n",
        "    ytest = [item[0] for item in ytest]\n",
        "\n",
        "    # training phase: SVM , fit model to training data ------------------------------\n",
        "    clf = svm.SVC(kernel = 'linear')\n",
        "    clf.fit(Xtrain, ytrain)\n",
        "    # predict labels for test data\n",
        "    ypred = clf.predict(Xtest)\n",
        "    \n",
        "    # compute accuracy\n",
        "    accuracy = accuracy_score(ytest, ypred) * 100\n",
        "    print(\"\\nAccuracy: %.2f\" % accuracy + \"%\")\n",
        "start_time = time.time()\n",
        "train_svm()"
      ],
      "metadata": {
        "colab": {
          "base_uri": "https://localhost:8080/"
        },
        "id": "0VvYlhGxnFrk",
        "outputId": "72643acf-50b8-471a-958a-bc992d638a78"
      },
      "execution_count": 148,
      "outputs": [
        {
          "output_type": "stream",
          "name": "stdout",
          "text": [
            "size:  100\n",
            "size:  50\n",
            "\n",
            "Accuracy: 80.00%\n"
          ]
        }
      ]
    },
    {
      "cell_type": "code",
      "source": [
        "\n",
        "print('Execution time: %.2f' % (time.time() - start_time) + ' seconds\\n')"
      ],
      "metadata": {
        "colab": {
          "base_uri": "https://localhost:8080/"
        },
        "id": "1YxcIB8FZx9X",
        "outputId": "9064d9e2-59da-49c5-fa80-7c98cc6a2a3b"
      },
      "execution_count": 54,
      "outputs": [
        {
          "output_type": "stream",
          "name": "stdout",
          "text": [
            "Execution time: 128.89 seconds\n",
            "\n"
          ]
        }
      ]
    }
  ]
}