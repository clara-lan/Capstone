{
  "nbformat": 4,
  "nbformat_minor": 0,
  "metadata": {
    "colab": {
      "provenance": [],
      "collapsed_sections": [],
      "mount_file_id": "1MZJN0FkKGAP7hxPLB2Fy_G7lOeyJNXJg",
      "authorship_tag": "ABX9TyP0PrhCVUz9JEjrftXAblsP",
      "include_colab_link": true
    },
    "kernelspec": {
      "name": "python3",
      "display_name": "Python 3"
    },
    "language_info": {
      "name": "python"
    }
  },
  "cells": [
    {
      "cell_type": "markdown",
      "metadata": {
        "id": "view-in-github",
        "colab_type": "text"
      },
      "source": [
        "<a href=\"https://colab.research.google.com/github/clara-lan/Capstone/blob/main/CapstoneSVM.ipynb\" target=\"_parent\"><img src=\"https://colab.research.google.com/assets/colab-badge.svg\" alt=\"Open In Colab\"/></a>"
      ]
    },
    {
      "cell_type": "markdown",
      "source": [
        "# Use SVM to detect empty space and pre-process images"
      ],
      "metadata": {
        "id": "J93ZoQDqaIYw"
      }
    },
    {
      "cell_type": "markdown",
      "source": [
        "# Step1: Import system and dependancies"
      ],
      "metadata": {
        "id": "Nwzzdw3yaTjQ"
      }
    },
    {
      "cell_type": "code",
      "execution_count": null,
      "metadata": {
        "id": "5LtTklnf1hEW"
      },
      "outputs": [],
      "source": [
        "import os\n",
        "from os import listdir\n",
        "from os.path import isfile, join\n",
        "!pip install roboflow\n",
        "from roboflow import Roboflow\n",
        "import numpy as np\n",
        "import matplotlib.pyplot as plt\n",
        "\n",
        "import tensorflow as tf\n",
        "print(\"TensorFlow version:\", tf.__version__)\n"
      ]
    },
    {
      "cell_type": "code",
      "source": [
        "import IPython.display as display"
      ],
      "metadata": {
        "id": "Yo6xjQ4_SkU6"
      },
      "execution_count": 2,
      "outputs": []
    },
    {
      "cell_type": "code",
      "source": [
        "import pandas as pd\n",
        "import cv2\n",
        "import os\n",
        "import sys\n",
        "import math\n",
        "import time\n",
        "from sklearn import svm\n",
        "from sklearn.metrics import accuracy_score\n",
        "from skimage.feature import hog"
      ],
      "metadata": {
        "id": "Qz5dhKUwauId"
      },
      "execution_count": 3,
      "outputs": []
    },
    {
      "cell_type": "markdown",
      "source": [
        "## Import dataset from Roboflow"
      ],
      "metadata": {
        "id": "876UEB-fahHR"
      }
    },
    {
      "cell_type": "code",
      "source": [
        "#Read method1: Load roboflow dataset in tfrecord\n",
        "import tensorflow.python.platform\n",
        "from tensorflow.python.platform import gfile\n",
        "\n",
        "rf = Roboflow(api_key=\"cKIuGvQRsLbBvFgxNztc\")\n",
        "project = rf.workspace(\"myworkspace-nfnwm\").project(\"capstone-nyjby\")\n",
        "dataset = project.version(2).download(\"tfrecord\")"
      ],
      "metadata": {
        "colab": {
          "base_uri": "https://localhost:8080/"
        },
        "id": "IpgNXMqw-4Hy",
        "outputId": "ea8b61b5-0fe4-4f54-8c81-800bad57cc36"
      },
      "execution_count": 4,
      "outputs": [
        {
          "output_type": "stream",
          "name": "stdout",
          "text": [
            "loading Roboflow workspace...\n",
            "loading Roboflow project...\n",
            "Downloading Dataset Version Zip in Capstone-2 to tfrecord: 100% [29467840 / 29467840] bytes\n"
          ]
        },
        {
          "output_type": "stream",
          "name": "stderr",
          "text": [
            "Extracting Dataset Version Zip to Capstone-2 in tfrecord:: 100%|██████████| 11/11 [00:00<00:00, 42.02it/s]\n"
          ]
        }
      ]
    },
    {
      "cell_type": "code",
      "source": [
        "def extract_images(path):\n",
        "  #   # Create a description of the features.\n",
        "  images = []\n",
        "  features = {\n",
        "      \"image/encoded\": tf.io.FixedLenFeature([], tf.string),\n",
        "      \"image/format\": tf.io.FixedLenFeature([], tf.string),\n",
        "      \"image/height\": tf.io.FixedLenFeature([], tf.int64),\n",
        "      \"image/object/bbox/xmax\": tf.io.VarLenFeature(tf.float32),\n",
        "      \"image/object/bbox/xmin\": tf.io.VarLenFeature(tf.float32),\n",
        "      \"image/object/bbox/ymax\": tf.io.VarLenFeature(tf.float32),\n",
        "      \"image/object/bbox/ymin\": tf.io.VarLenFeature(tf.float32),\n",
        "      \"image/object/class/label\": tf.io.VarLenFeature(tf.int64),\n",
        "      \"image/object/class/text\": tf.io.VarLenFeature(tf.string),\n",
        "      \"image/width\": tf.io.FixedLenFeature([], tf.int64),\n",
        "  }\n",
        "\n",
        "  train_dataset = tf.data.TFRecordDataset(path)\n",
        "  # Check an example data in file\n",
        "  for raw_record in train_dataset.take(144):\n",
        "    # print(raw_record)\n",
        "    sample = tf.io.parse_single_example(raw_record, features)\n",
        "    image = tf.image.decode_image(sample['image/encoded'], dtype=tf.float32) \n",
        "    label = sample['image/object/class/label']\n",
        "    # from matplotlib import pyplot as plt\n",
        "    # plt.imshow(image, interpolation='nearest')\n",
        "    # plt.show()\n",
        "    images.append(image)\n",
        "  return images"
      ],
      "metadata": {
        "id": "lOfRNPtyQi9u"
      },
      "execution_count": 5,
      "outputs": []
    },
    {
      "cell_type": "markdown",
      "source": [
        "# Step2: Preprocess data"
      ],
      "metadata": {
        "id": "HI6gpfcDapC1"
      }
    },
    {
      "cell_type": "code",
      "source": [
        "# test_dataset = tf.data.TFRecordDataset('/content/Empty-shelf-detection-15/test/Empty-space.tfrecord')\n",
        "# valid_dataset = tf.data.TFRecordDataset('/content/Empty-shelf-detection-15/valid/Empty-space.tfrecord')\n",
        "train_labels = '/content/Capstone-2/train/empty-shelf-space_label_map.pbtxt'\n",
        "# valid_labels = '/content/Empty-shelf-detection-15/valid/Empty-space_label_map.pbtxt'"
      ],
      "metadata": {
        "id": "1CpXZtaDPG9G"
      },
      "execution_count": 6,
      "outputs": []
    },
    {
      "cell_type": "code",
      "source": [
        "label_map_path = '/content/Capstone-2/valid/empty-shelf-space_label_map.pbtxt'\n",
        "def read_label_map(label_map_path):\n",
        "\n",
        "    item_id = None\n",
        "    item_name = None\n",
        "    items = {}\n",
        "    \n",
        "    with open(label_map_path, \"r\") as file:\n",
        "        for line in file:\n",
        "            line.replace(\" \", \"\")\n",
        "            if line == \"item{\":\n",
        "                pass\n",
        "            elif line == \"}\":\n",
        "                pass\n",
        "     \n",
        "            elif \"name\" in line:\n",
        "                item_name = line.split(\":\", 1)[1].replace(\"\\\"\", \"\").strip()[:-1]\n",
        "            elif \"id\" in line:\n",
        "              item_id = int(line.split(\":\", 1)[1].strip()[:-1])\n",
        "\n",
        "            if item_id is not None and item_name is not None:\n",
        "                # if(item_name == \"Void\"):\n",
        "                #    item_name = \"empty_space\"\n",
        "                items[item_name] = item_id\n",
        "                item_id = None\n",
        "                item_name = None\n",
        "    return items\n",
        "read_label_map(label_map_path)"
      ],
      "metadata": {
        "colab": {
          "base_uri": "https://localhost:8080/"
        },
        "id": "htGr05WqskQI",
        "outputId": "c90b5c8e-3fc4-4fca-ff9e-1750b0e3eb1d"
      },
      "execution_count": 29,
      "outputs": [
        {
          "output_type": "execute_result",
          "data": {
            "text/plain": [
              "{'empty_shelf': 1, 'object': 2}"
            ]
          },
          "metadata": {},
          "execution_count": 29
        }
      ]
    },
    {
      "cell_type": "markdown",
      "source": [
        "# Step3: Train SVM\n",
        "---\n",
        "\n"
      ],
      "metadata": {
        "id": "GeQM7_yAZniY"
      }
    },
    {
      "cell_type": "code",
      "source": [
        "rnoMapping = {}\n",
        "\n",
        "def datagen(mode):\n",
        "    \"\"\"\n",
        "    Function: datagen \n",
        "    \n",
        "    Input: \n",
        "        mode - 1 denotes train data ; 2 denotes test data\n",
        "    \n",
        "    Output: Train/Test data and labels depending on mode value\n",
        "    \n",
        "    Description: This function computes HOG features for each image in the Dataset/train or Dataset/test folder, assigns label to the descriptor vector of the image and returns the final train/test data and labels matrices used for feeding the SVM in training phase or predicting the label of test data.\n",
        "    \n",
        "    \"\"\"\n",
        "\n",
        "    X = []\n",
        "    y = []\n",
        "    # TODO: remove the dummy index to select y\n",
        "    idx = 0\n",
        "    cnt = 0\n",
        "    if mode == 1:\n",
        "        path = '/content/Capstone-2/train/empty-shelf-space.tfrecord'\n",
        "    elif mode == 2:\n",
        "        path = '/content/Capstone-2/valid/empty-shelf-space.tfrecord'\n",
        "    # read image\n",
        "    images = extract_images(path)\n",
        "    for img in images:\n",
        "        idx += 1\n",
        "        # compute HOG features\n",
        "        des, hog_image = hog(img, orientations=8, pixels_per_cell=(16, 16), cells_per_block=(4, 4), block_norm= 'L2',visualize=True)\n",
        "        # print(des)\n",
        "\n",
        "        \"\"\"Read labels\"\"\"\n",
        "        labels = list(read_label_map(train_labels).keys())\n",
        "                \n",
        "        if mode == 1:\n",
        "            # construct dictionary for roll no. mapping\n",
        "            for label in labels:\n",
        "              if label not in rnoMapping.keys():\n",
        "                  rnoMapping[label] = cnt\n",
        "                  cnt += 1\n",
        "\n",
        "        # append descriptor and label to train/test data, labels\n",
        "        X.append(des)\n",
        "        # print(labels)\n",
        "        if(idx % 2 == 0):\n",
        "          y.append(rnoMapping[labels[0]])\n",
        "        else:\n",
        "          y.append(rnoMapping[labels[1]])\n",
        "\n",
        "    # return data and label\n",
        "    return X, y\n",
        "# datagen(1)\n",
        "# datagen(2)\n"
      ],
      "metadata": {
        "id": "1iD7Wrf-ZuPp"
      },
      "execution_count": 52,
      "outputs": []
    },
    {
      "cell_type": "code",
      "source": [
        "def train_svm():\n",
        "    # list of training and test files\n",
        "    # files_train = [(os.getcwd() + '/Dataset/train/' + f) for f in os.listdir(os.path.join('./Dataset/','train'))]\n",
        "    # files_test = [(os.getcwd() + '/Dataset/test/' + f) for f in os.listdir(os.path.join('./Dataset/','test'))]\n",
        "\n",
        "    # call 'datagen' function to get training and testing data & labels\n",
        "    Xtrain, ytrain = datagen(1)\n",
        "    Xtest, ytest = datagen(2)\n",
        "\n",
        "    # convert all matrices to numpy array for fast computation\n",
        "    Xtrain = np.array(Xtrain)\n",
        "    ytrain = np.array(ytrain)\n",
        "    print(\"x: \", Xtrain.shape)\n",
        "    print(\"ytrain: \", ytrain.shape)\n",
        "    Xtest = np.array(Xtest)\n",
        "    ytest = np.array(ytest)\n",
        "\n",
        "    # training phase: SVM , fit model to training data ------------------------------\n",
        "    clf = svm.SVC(kernel = 'linear')\n",
        "    clf.fit(Xtrain, ytrain)\n",
        "    # predict labels for test data\n",
        "    ypred = clf.predict(Xtest)\n",
        "    \n",
        "    # compute accuracy\n",
        "    accuracy = accuracy_score(ytest, ypred) * 100\n",
        "    print(\"\\nAccuracy: %.2f\" % accuracy + \"%\")\n",
        "start_time = time.time()\n",
        "train_svm()"
      ],
      "metadata": {
        "colab": {
          "base_uri": "https://localhost:8080/"
        },
        "id": "0VvYlhGxnFrk",
        "outputId": "7290c48f-c270-46a9-88d8-bb1e7512b2ea"
      },
      "execution_count": 53,
      "outputs": [
        {
          "output_type": "stream",
          "name": "stdout",
          "text": [
            "x:  (144, 67712)\n",
            "ytrain:  (144,)\n",
            "\n",
            "Accuracy: 51.39%\n"
          ]
        }
      ]
    },
    {
      "cell_type": "code",
      "source": [
        "\n",
        "print('Execution time: %.2f' % (time.time() - start_time) + ' seconds\\n')"
      ],
      "metadata": {
        "colab": {
          "base_uri": "https://localhost:8080/"
        },
        "id": "1YxcIB8FZx9X",
        "outputId": "9064d9e2-59da-49c5-fa80-7c98cc6a2a3b"
      },
      "execution_count": 54,
      "outputs": [
        {
          "output_type": "stream",
          "name": "stdout",
          "text": [
            "Execution time: 128.89 seconds\n",
            "\n"
          ]
        }
      ]
    }
  ]
}